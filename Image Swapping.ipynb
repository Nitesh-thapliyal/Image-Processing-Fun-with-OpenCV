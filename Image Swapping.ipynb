{
 "cells": [
  {
   "cell_type": "code",
   "execution_count": 1,
   "metadata": {},
   "outputs": [],
   "source": [
    "import cv2, numpy as  np"
   ]
  },
  {
   "cell_type": "code",
   "execution_count": 2,
   "metadata": {},
   "outputs": [],
   "source": [
    "#Reading the images\n",
    "\n",
    "Nitesh = cv2.imread('Nitesh.png') \n",
    "Ronaldo = cv2.imread('ronaldo.png')\n",
    "cv2.imshow('Nitesh', Nitesh)\n",
    "cv2.imshow('Ronaldo', Ronaldo)\n",
    "cv2.waitKey()\n",
    "cv2.destroyAllWindows()"
   ]
  },
  {
   "cell_type": "code",
   "execution_count": 3,
   "metadata": {},
   "outputs": [],
   "source": [
    "# Cropping swaping of the image Nitesh -> Ronaldo\n",
    "\n",
    "Nitesh_crop = Nitesh[70:250,150:350] \n",
    "Ronaldo[70:290,120:300] = cv2.resize(Nitesh_crop, (180, 220))\n",
    "\n",
    "cv2.imshow('Nitesh-Swapped-face-with-Ronaldo-Face', Ronaldo)\n",
    "cv2.waitKey()\n",
    "cv2.destroyAllWindows()"
   ]
  },
  {
   "cell_type": "code",
   "execution_count": 4,
   "metadata": {},
   "outputs": [],
   "source": [
    "Nitesh = cv2.imread('Nitesh.png') \n",
    "Ronaldo = cv2.imread('ronaldo.png')"
   ]
  },
  {
   "cell_type": "code",
   "execution_count": 7,
   "metadata": {},
   "outputs": [],
   "source": [
    "#Cropping and Swapping of image Ronaldo ->Nitesh\n",
    "\n",
    "Ronaldo_crop = Ronaldo[70:290,120:300]    \n",
    "Nitesh[70:250,150:350] = cv2.resize(Ronaldo_crop, (200, 180))\n",
    "\n",
    "cv2.imshow('Ronaldo-Swapped-Face-With-Nitesh',Nitesh )\n",
    "cv2.waitKey()\n",
    "cv2.destroyAllWindows()"
   ]
  },
  {
   "cell_type": "code",
   "execution_count": null,
   "metadata": {},
   "outputs": [],
   "source": []
  }
 ],
 "metadata": {
  "kernelspec": {
   "display_name": "Python 3",
   "language": "python",
   "name": "python3"
  },
  "language_info": {
   "codemirror_mode": {
    "name": "ipython",
    "version": 3
   },
   "file_extension": ".py",
   "mimetype": "text/x-python",
   "name": "python",
   "nbconvert_exporter": "python",
   "pygments_lexer": "ipython3",
   "version": "3.8.3"
  }
 },
 "nbformat": 4,
 "nbformat_minor": 4
}
