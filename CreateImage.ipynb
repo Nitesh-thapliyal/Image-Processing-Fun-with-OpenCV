{
 "cells": [
  {
   "cell_type": "code",
   "execution_count": 1,
   "metadata": {},
   "outputs": [],
   "source": [
    "import cv2\n",
    "import numpy as np"
   ]
  },
  {
   "cell_type": "code",
   "execution_count": 55,
   "metadata": {},
   "outputs": [],
   "source": [
    "img1=np.zeros((512,512,3), np.uint8)\n",
    "font=cv2.FONT_HERSHEY_SIMPLEX\n",
    "thickness=-1\n",
    "cv2.rectangle(img1,(80,300),(400,700),(0,0,255),-1) #red rec\n",
    "cv2.rectangle(img1,(180,100),(400,700),(255,255,255),-1) # white rec\n",
    "cv2.putText(img1,'ARTH',(200,150), font, 2,(0,0,255),3,thickness) #ARTH\n",
    "cv2.rectangle(img1,(350,600),(250,400),(0,255,255),-1) #yellow rect\n",
    "cv2.imshow('ARTH',img1)\n",
    "cv2.waitKey(0)\n",
    "cv2.destroyAllWindows()"
   ]
  }
 ],
 "metadata": {
  "kernelspec": {
   "display_name": "Python 3",
   "language": "python",
   "name": "python3"
  },
  "language_info": {
   "codemirror_mode": {
    "name": "ipython",
    "version": 3
   },
   "file_extension": ".py",
   "mimetype": "text/x-python",
   "name": "python",
   "nbconvert_exporter": "python",
   "pygments_lexer": "ipython3",
   "version": "3.8.3"
  }
 },
 "nbformat": 4,
 "nbformat_minor": 4
}
