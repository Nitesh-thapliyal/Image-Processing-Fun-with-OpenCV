{
 "cells": [
  {
   "cell_type": "code",
   "execution_count": 17,
   "metadata": {},
   "outputs": [],
   "source": [
    "import cv2\n",
    "import numpy as np"
   ]
  },
  {
   "cell_type": "markdown",
   "metadata": {},
   "source": [
    "## Image created using OpenCV"
   ]
  },
  {
   "cell_type": "code",
   "execution_count": 18,
   "metadata": {},
   "outputs": [],
   "source": [
    "img1=np.zeros((512,512,3), np.uint8)\n",
    "font=cv2.FONT_HERSHEY_SIMPLEX\n",
    "thickness=-1\n",
    "cv2.rectangle(img1,(80,300),(400,700),(0,0,255),-1) #red rec\n",
    "cv2.rectangle(img1,(180,100),(400,700),(255,255,255),-1) # white rec\n",
    "cv2.putText(img1,'ARTH',(200,150), font, 2,(0,0,255),3,thickness) #ARTH\n",
    "cv2.rectangle(img1,(350,600),(250,400),(0,255,255),-1) #yellow rect\n",
    "cv2.imshow('ARTH',img1)\n",
    "cv2.waitKey(0)\n",
    "cv2.destroyAllWindows()"
   ]
  },
  {
   "cell_type": "markdown",
   "metadata": {},
   "source": [
    "## Combine two Image using OpenCV"
   ]
  },
  {
   "cell_type": "code",
   "execution_count": 19,
   "metadata": {},
   "outputs": [],
   "source": [
    "Nitesh=cv2.imread('Nitesh.png')\n",
    "Ronaldo=cv2.imread('ronaldo.png')\n",
    "\n",
    "Nitesh_crop=Nitesh[0:275,0:500] #Croped images\n",
    "Ronaldo_crop=Ronaldo[0:275,0:500]\n",
    "Image_combine=cv2.hconcat([Nitesh_crop,Ronaldo_crop]) #hconcat concatinates the image horizontally\n",
    "cv2.imshow(\"Combined_image\",Image_combine)\n",
    "cv2.waitKey()\n",
    "cv2.destroyAllWindows()"
   ]
  },
  {
   "cell_type": "markdown",
   "metadata": {},
   "source": [
    "## Crop and Swap Image using OpenCV"
   ]
  },
  {
   "cell_type": "code",
   "execution_count": 20,
   "metadata": {},
   "outputs": [],
   "source": [
    "#Reading the images\n",
    "\n",
    "Nitesh = cv2.imread('Nitesh.png') \n",
    "Ronaldo = cv2.imread('ronaldo.png')\n",
    "cv2.imshow('Nitesh', Nitesh)\n",
    "cv2.imshow('Ronaldo', Ronaldo)\n",
    "cv2.waitKey()\n",
    "cv2.destroyAllWindows()"
   ]
  },
  {
   "cell_type": "code",
   "execution_count": 21,
   "metadata": {},
   "outputs": [],
   "source": [
    "# Cropping and swapping of the image Nitesh -> Ronaldo\n",
    "\n",
    "Nitesh_crop = Nitesh[70:250,150:350] \n",
    "Ronaldo[70:290,120:300] = cv2.resize(Nitesh_crop, (180, 220))\n",
    "\n",
    "cv2.imshow('Nitesh-Swapped-face-with-Ronaldo-Face', Ronaldo)\n",
    "cv2.waitKey()\n",
    "cv2.destroyAllWindows()"
   ]
  },
  {
   "cell_type": "code",
   "execution_count": 22,
   "metadata": {},
   "outputs": [],
   "source": [
    "Nitesh = cv2.imread('Nitesh.png') \n",
    "Ronaldo = cv2.imread('ronaldo.png')"
   ]
  },
  {
   "cell_type": "code",
   "execution_count": 23,
   "metadata": {},
   "outputs": [],
   "source": [
    "#Cropping and Swapping of image Ronaldo ->Nitesh\n",
    "\n",
    "Ronaldo_crop = Ronaldo[70:290,120:300]    \n",
    "Nitesh[70:250,150:350] = cv2.resize(Ronaldo_crop, (200, 180))\n",
    "\n",
    "cv2.imshow('Ronaldo-Swapped-Face-With-Nitesh',Nitesh )\n",
    "cv2.waitKey()\n",
    "\n",
    "cv2.destroyAllWindows()"
   ]
  },
  {
   "cell_type": "code",
   "execution_count": null,
   "metadata": {},
   "outputs": [],
   "source": []
  }
 ],
 "metadata": {
  "kernelspec": {
   "display_name": "Python 3",
   "language": "python",
   "name": "python3"
  },
  "language_info": {
   "codemirror_mode": {
    "name": "ipython",
    "version": 3
   },
   "file_extension": ".py",
   "mimetype": "text/x-python",
   "name": "python",
   "nbconvert_exporter": "python",
   "pygments_lexer": "ipython3",
   "version": "3.8.3"
  }
 },
 "nbformat": 4,
 "nbformat_minor": 4
}
