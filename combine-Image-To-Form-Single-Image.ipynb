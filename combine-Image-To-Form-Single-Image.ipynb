{
 "cells": [
  {
   "cell_type": "code",
   "execution_count": 1,
   "metadata": {},
   "outputs": [],
   "source": [
    "import cv2\n",
    "import numpy as np"
   ]
  },
  {
   "cell_type": "code",
   "execution_count": 2,
   "metadata": {},
   "outputs": [],
   "source": [
    "Nitesh=cv2.imread('Nitesh.png')\n",
    "Ronaldo=cv2.imread('ronaldo.png')\n",
    "\n",
    "Nitesh_crop=Nitesh[0:275,0:500] #Croped images\n",
    "Ronaldo_crop=Ronaldo[0:275,0:500]\n",
    "combine=cv2.hconcat([Nitesh_crop,Ronaldo_crop]) #hconcat concatinates the image horizontally\n",
    "cv2.imshow(\"joined_image\",combine)\n",
    "cv2.waitKey()\n",
    "cv2.destroyAllWindows()"
   ]
  },
  {
   "cell_type": "code",
   "execution_count": 5,
   "metadata": {},
   "outputs": [],
   "source": [
    "bear1=bear[:,0:399]\n",
    "lion1=lion[:,0:399]\n",
    "combine=cv2.vconcat([lion1,bear1]) #Vstack is use to add image vertically\n",
    "cv2.imshow(\"joined_image\",combine)\n",
    "cv2.waitKey()\n",
    "cv2.destroyAllWindows()"
   ]
  }
 ],
 "metadata": {
  "kernelspec": {
   "display_name": "Python 3",
   "language": "python",
   "name": "python3"
  },
  "language_info": {
   "codemirror_mode": {
    "name": "ipython",
    "version": 3
   },
   "file_extension": ".py",
   "mimetype": "text/x-python",
   "name": "python",
   "nbconvert_exporter": "python",
   "pygments_lexer": "ipython3",
   "version": "3.8.3"
  }
 },
 "nbformat": 4,
 "nbformat_minor": 4
}
